{
 "cells": [
  {
   "cell_type": "markdown",
   "id": "f77eadb4-2091-4de5-a318-0310f1e17e86",
   "metadata": {},
   "source": [
    "<b>Question 1</b><br>\n",
    "Generate all prime numbers less than 10,000. Then, calculate and print the sum of the first 1000 primes as well as the sum of the last 1000 primes."
   ]
  },
  {
   "cell_type": "code",
   "execution_count": 69,
   "id": "245f4f3c-85f1-40ad-85c6-5e3c9dd56a08",
   "metadata": {},
   "outputs": [
    {
     "name": "stdout",
     "output_type": "stream",
     "text": [
      "Sum of the first 1000 primes: 3682913\n",
      "Sum of the last 1000 primes: 5586122\n"
     ]
    }
   ],
   "source": [
    "def primeGenerator(lessThan=10000):\n",
    "    import math\n",
    "    primes = []\n",
    "    for num in range(2, lessThan + 1):\n",
    "        flag = False\n",
    "        for i in range(2, int(math.sqrt(num)) + 1):\n",
    "            if num % i == 0:\n",
    "                flag = True\n",
    "                break\n",
    "        if flag == False:\n",
    "            primes.append(num)\n",
    "    return primes\n",
    "primes = primeGenerator(lessThan=10000)\n",
    "\n",
    "result1 = 0\n",
    "result2 = 0\n",
    "for i in range(1000):\n",
    "    result1 += primes[i]\n",
    "for i in range(len(primes)-1, len(primes)-1-1000, -1):\n",
    "    result2 += primes[i]\n",
    "print('Sum of the first 1000 primes:', result1)\n",
    "print('Sum of the last 1000 primes:', result2)"
   ]
  },
  {
   "cell_type": "markdown",
   "id": "75a0568a-3ead-43bd-8d7d-63be0e9bc0d0",
   "metadata": {},
   "source": [
    "<b>Question 2</b><br>\n",
    "Write a Python function that determines the frequency of items within a list and then displays the results in a dictionary."
   ]
  },
  {
   "cell_type": "code",
   "execution_count": 4,
   "id": "0531f0d9-55b3-4fb2-b75e-93ef6f82768a",
   "metadata": {},
   "outputs": [
    {
     "name": "stdout",
     "output_type": "stream",
     "text": [
      "{'Teacher': 3, 'Benjamin': 2, 'TA': 4, 'Lily': 1}\n"
     ]
    }
   ],
   "source": [
    "example = 'Teacher Benjamin TA TA Teacher Lily TA Teacher Benjamin TA'\n",
    "# example = input()\n",
    "lst = example.split()\n",
    "def frequency(lst=[]):\n",
    "    if not len(lst):\n",
    "        return None\n",
    "    frequency = {}\n",
    "    for item in lst:\n",
    "        if item not in frequency:\n",
    "            frequency[item] = 0\n",
    "        frequency[item] += 1\n",
    "    return frequency\n",
    "print(frequency(lst=lst))"
   ]
  },
  {
   "cell_type": "markdown",
   "id": "82a0e333-12f5-4173-8b9b-d58efb023663",
   "metadata": {},
   "source": [
    "<b>Question 3</b><br>\n",
    "Create a dictionary that counts the frequency of each word in a given sentence.<br>\n",
    "Note that do NOT consider numbers, punctuations, spaces and etc.<br>\n",
    "Note that do NOT consider case sensitivity."
   ]
  },
  {
   "cell_type": "code",
   "execution_count": 9,
   "id": "b906ee6a-7b47-4b19-8fe9-91dcdc923e60",
   "metadata": {},
   "outputs": [
    {
     "name": "stdout",
     "output_type": "stream",
     "text": [
      "{'This': 2, 'is': 2, 'an': 2, 'example': 2, 'sentence': 1, 'not': 1, 'a': 1, 'test': 1}\n"
     ]
    },
    {
     "ename": "AttributeError",
     "evalue": "'list' object has no attribute 'lower'",
     "output_type": "error",
     "traceback": [
      "\u001b[1;31m---------------------------------------------------------------------------\u001b[0m",
      "\u001b[1;31mAttributeError\u001b[0m                            Traceback (most recent call last)",
      "\u001b[1;32m~\\AppData\\Local\\Temp/ipykernel_5332/1473174958.py\u001b[0m in \u001b[0;36m<module>\u001b[1;34m\u001b[0m\n\u001b[0;32m     48\u001b[0m \u001b[1;33m\u001b[0m\u001b[0m\n\u001b[0;32m     49\u001b[0m \u001b[1;33m\u001b[0m\u001b[0m\n\u001b[1;32m---> 50\u001b[1;33m \u001b[0mprint\u001b[0m\u001b[1;33m(\u001b[0m\u001b[0mcount_letters\u001b[0m\u001b[1;33m(\u001b[0m\u001b[0mlst\u001b[0m\u001b[1;33m)\u001b[0m\u001b[1;33m)\u001b[0m\u001b[1;33m\u001b[0m\u001b[1;33m\u001b[0m\u001b[0m\n\u001b[0m",
      "\u001b[1;32m~\\AppData\\Local\\Temp/ipykernel_5332/1473174958.py\u001b[0m in \u001b[0;36mcount_letters\u001b[1;34m(text)\u001b[0m\n\u001b[0;32m      5\u001b[0m \u001b[1;32mdef\u001b[0m \u001b[0mcount_letters\u001b[0m\u001b[1;33m(\u001b[0m\u001b[0mtext\u001b[0m\u001b[1;33m)\u001b[0m\u001b[1;33m:\u001b[0m\u001b[1;33m\u001b[0m\u001b[1;33m\u001b[0m\u001b[0m\n\u001b[0;32m      6\u001b[0m     \u001b[0mresult\u001b[0m \u001b[1;33m=\u001b[0m \u001b[1;33m{\u001b[0m\u001b[1;33m}\u001b[0m\u001b[1;33m\u001b[0m\u001b[1;33m\u001b[0m\u001b[0m\n\u001b[1;32m----> 7\u001b[1;33m     \u001b[0mtext\u001b[0m \u001b[1;33m=\u001b[0m \u001b[0mtext\u001b[0m\u001b[1;33m.\u001b[0m\u001b[0mlower\u001b[0m\u001b[1;33m(\u001b[0m\u001b[1;33m)\u001b[0m\u001b[1;33m\u001b[0m\u001b[1;33m\u001b[0m\u001b[0m\n\u001b[0m\u001b[0;32m      8\u001b[0m   \u001b[1;31m# Go through each letter in the text\u001b[0m\u001b[1;33m\u001b[0m\u001b[1;33m\u001b[0m\u001b[0m\n\u001b[0;32m      9\u001b[0m     \u001b[1;32mfor\u001b[0m \u001b[0mletter\u001b[0m \u001b[1;32min\u001b[0m \u001b[0mtext\u001b[0m\u001b[1;33m:\u001b[0m\u001b[1;33m\u001b[0m\u001b[1;33m\u001b[0m\u001b[0m\n",
      "\u001b[1;31mAttributeError\u001b[0m: 'list' object has no attribute 'lower'"
     ]
    }
   ],
   "source": [
    "example = 'This, is  1 an example sentence _ This is an example not a test'\n",
    "# example = input()\n",
    "lst = example.split()\n",
    "\n",
    "\n",
    "def freqWord(lst):\n",
    "    if not len(lst):\n",
    "        return None\n",
    "    a_ord = ord('a')\n",
    "    z_ord = ord('z')\n",
    "    A_ord = ord('A')\n",
    "    Z_ord = ord('Z')\n",
    "    \n",
    "    wordFreq = {}\n",
    "    for item in lst:\n",
    "        temp = ''\n",
    "        for char in item:     \n",
    "            if ((a_ord <= ord(char)) and (ord(char) <= z_ord)) or ((A_ord <= ord(char)) and (ord(char) <= Z_ord)):\n",
    "                temp += char\n",
    "        if len(temp) != 0:\n",
    "            item = temp\n",
    "            if item not in wordFreq:\n",
    "                 wordFreq[item] = 0\n",
    "            wordFreq[item] += 1\n",
    "    return wordFreq\n",
    "print(freqWord(lst))\n",
    "\n",
    "def freqWord_simple(lst):\n",
    "    wordFreq = {}\n",
    "    if not len(lst):\n",
    "        return None\n",
    "    for word in lst:\n",
    "        if word.isalpha():\n",
    "            if word not in wordFreq:\n",
    "                 wordFreq[word] = 0\n",
    "            wordFreq[word] += 1\n",
    "    return wordFreq\n",
    "\n",
    "\n",
    "print(count_letters(lst))"
   ]
  },
  {
   "cell_type": "code",
   "execution_count": 32,
   "id": "05e91057-cdb6-4a9d-93a5-4c5b54c5000f",
   "metadata": {},
   "outputs": [
    {
     "name": "stdout",
     "output_type": "stream",
     "text": [
      "97 122\n",
      "65 90\n"
     ]
    }
   ],
   "source": [
    "print(a_ord, z_ord)\n",
    "print(A_ord, Z_ord)"
   ]
  },
  {
   "cell_type": "code",
   "execution_count": 66,
   "id": "a4d7b3b8-b812-4a20-8141-b2a2340dc6fd",
   "metadata": {},
   "outputs": [
    {
     "data": {
      "text/plain": [
       "False"
      ]
     },
     "execution_count": 66,
     "metadata": {},
     "output_type": "execute_result"
    }
   ],
   "source": [
    "test = 'hi,'\n",
    "test.isalpha()"
   ]
  },
  {
   "cell_type": "markdown",
   "id": "383a81ee-7050-46fb-9dbd-5313a456fee3",
   "metadata": {},
   "source": [
    "<b>Question 4</b><br>\n",
    "Create a tuple containing the first 20 square numbers (in range 1-100) that are divisible by five."
   ]
  },
  {
   "cell_type": "code",
   "execution_count": 72,
   "id": "3a622c5f-1458-4748-a7f1-6d5ed482da5f",
   "metadata": {},
   "outputs": [
    {
     "name": "stdout",
     "output_type": "stream",
     "text": [
      "(25, 100, 225, 400, 625, 900, 1225, 1600, 2025, 2500, 3025, 3600, 4225, 4900, 5625, 6400, 7225, 8100, 9025)\n"
     ]
    }
   ],
   "source": [
    "tpl = tuple(i ** 2 for i in range(0, 100, 5) if i > 0)\n",
    "print(tpl)"
   ]
  },
  {
   "cell_type": "markdown",
   "id": "19142de6-bb06-4304-ba6b-b99be6709ced",
   "metadata": {},
   "source": [
    "<b>Question 5</b><br>\n",
    "Write a Python function to identify the <b>third-largest</b> element and the <b>second-smallest</b> element within a tuple."
   ]
  },
  {
   "cell_type": "code",
   "execution_count": 67,
   "id": "554d9992-bfc6-4c93-a1a0-c3f80d572127",
   "metadata": {},
   "outputs": [
    {
     "data": {
      "text/plain": [
       "('101', '178', '-73', '12', '8')"
      ]
     },
     "execution_count": 67,
     "metadata": {},
     "output_type": "execute_result"
    }
   ],
   "source": []
  },
  {
   "cell_type": "code",
   "execution_count": 101,
   "id": "c267a71a-5bf9-44b4-8748-595362dc40a0",
   "metadata": {},
   "outputs": [
    {
     "name": "stdin",
     "output_type": "stream",
     "text": [
      "   12 , 12 ,13,13 ,14 ,0,-1,-1,9,9,-5, -5\n"
     ]
    },
    {
     "name": "stdout",
     "output_type": "stream",
     "text": [
      "[14, 13, 12, 9, 0, -1, -5]\n",
      "Third largest element: 12\n",
      "Second smallest element: -1\n"
     ]
    }
   ],
   "source": [
    "# example = \"-89,1000,101,178,-73, 12, 120, 8, -90\"\n",
    "example = input()\n",
    "tpl = tuple(example.split(','))\n",
    "def kLargestAndSmallest(tpl, kl=1, ks=1):\n",
    "    k = []\n",
    "    for i in range(len(tpl)):\n",
    "        ins = False\n",
    "        if len(k) == 0:\n",
    "            k.append(int(tpl[i]))\n",
    "            continue    \n",
    "        for j in range(len(k)):\n",
    "            if int(tpl[i]) == k[j]:\n",
    "                # k.insert(j , int(tpl[i]))\n",
    "                ins = True\n",
    "                break\n",
    "            elif int(tpl[i]) >= k[j]:\n",
    "                k.insert(j , int(tpl[i]))\n",
    "                ins = True\n",
    "                break\n",
    "        if ins == False: \n",
    "            k.append(int(tpl[i]))\n",
    "    print(k)\n",
    "    \n",
    "    l = k[kl - 1]\n",
    "    s = k[- ks]\n",
    "    return l, s\n",
    "l, s = kLargestAndSmallest(tpl=tpl,kl=3, ks=2 )\n",
    "print('Third largest element:', l)\n",
    "print(\"Second smallest element:\", s)\n"
   ]
  },
  {
   "cell_type": "code",
   "execution_count": 93,
   "id": "6ead1c31-a421-420e-b920-1b87e27b61b6",
   "metadata": {},
   "outputs": [
    {
     "name": "stdin",
     "output_type": "stream",
     "text": [
      "   12 , 12 ,13,13 ,14 ,0,-1,-1,9,9,-5\n"
     ]
    },
    {
     "name": "stdout",
     "output_type": "stream",
     "text": [
      "[12, 13, 14, 0, -1, 9, -5]\n"
     ]
    }
   ],
   "source": [
    "# q5\n",
    "lst = input()\n",
    "lst = lst.split(',')\n",
    "lst = [int(i) for i in lst]\n",
    "def uniqueValues(lst):\n",
    "    if len(lst) == 0:\n",
    "        print('List is Empty')\n",
    "    unique = []\n",
    "    unique.append(lst[0])\n",
    "    for i in range(1, len(lst)):\n",
    "        exist = False\n",
    "        for j in range(len(unique)):\n",
    "            if lst[i] == unique[j]:\n",
    "                exist = True\n",
    "                break\n",
    "        if not exist:\n",
    "            unique.append(lst[i])\n",
    "    return unique\n",
    "print(uniqueValues(lst))"
   ]
  },
  {
   "cell_type": "markdown",
   "id": "5c037a0c-f599-4253-bf4a-99f89076e969",
   "metadata": {},
   "source": [
    "<b>Question 6</b><br>\n",
    "Write a Python function to count the occurrence of characters within a provided sentence and store the results in a dictionary."
   ]
  },
  {
   "cell_type": "code",
   "execution_count": 5,
   "id": "3671ce66-ade8-4b61-b9de-42f4048bbd69",
   "metadata": {},
   "outputs": [
    {
     "name": "stdout",
     "output_type": "stream",
     "text": [
      "loop:  {'l': 1, 'o': 2, 'p': 1}\n"
     ]
    }
   ],
   "source": [
    "example = \"loop\"\n",
    "# example = input()\n",
    "lst = example.split()\n",
    "def freqChar(lst):\n",
    "    if not len(lst):\n",
    "            return None\n",
    "    wordFreq = {}\n",
    "    for token in lst:\n",
    "        for char in token:     \n",
    "            if char not in wordFreq:\n",
    "                 wordFreq[char] = 0\n",
    "            wordFreq[char] += 1\n",
    "    return wordFreq\n",
    "print(f'{example}: ',freqChar(lst))"
   ]
  },
  {
   "cell_type": "markdown",
   "id": "fd0c730c-03c7-48e9-9211-06eba51925de",
   "metadata": {},
   "source": [
    "<b>Question 7</b><br>\n",
    "Create a Python function to check whether a word is a palindrome, disregarding spaces, punctuation, and letter case"
   ]
  },
  {
   "cell_type": "code",
   "execution_count": 11,
   "id": "54528a87-7070-4c76-b5d6-0175f4275e03",
   "metadata": {},
   "outputs": [
    {
     "data": {
      "text/plain": [
       "True"
      ]
     },
     "execution_count": 11,
     "metadata": {},
     "output_type": "execute_result"
    }
   ],
   "source": [
    "# example = 'level'\n",
    "example = input()\n",
    "txt = example\n",
    "def palindrome(txt: str):\n",
    "    if len(txt) == 0:\n",
    "        return None\n",
    "    temp = ''\n",
    "    for i in range(len(txt) -1, -1, -1):\n",
    "        temp += txt[i]\n",
    "    if txt == temp:\n",
    "        return True\n",
    "    return False\n",
    "print(palindrome(txt))"
   ]
  },
  {
   "cell_type": "markdown",
   "id": "fba89919-ffb3-42f7-a002-1c506eb7939a",
   "metadata": {},
   "source": [
    "<b>Question 8</b><br>\n",
    "Create a python function to check if two dictionaries have any keys in common. then select one of the keys and concatenate two values in a tuple, just like this key:(value_1, value_2).\n",
    "Also create a dictionary, which is the union of the two input dictionaries."
   ]
  },
  {
   "cell_type": "code",
   "execution_count": null,
   "id": "d168d485-1dc6-427b-b02b-352337935d31",
   "metadata": {},
   "outputs": [],
   "source": [
    "elements.input().split()\n",
    "results_dict = {elements[i]: float(elements[i + 1]) for i in range(0, len(elements), 2)}\n"
   ]
  },
  {
   "cell_type": "code",
   "execution_count": 21,
   "id": "0fa53092-03ce-409d-b294-31448c71c73c",
   "metadata": {},
   "outputs": [
    {
     "name": "stdout",
     "output_type": "stream",
     "text": [
      "{'a': 1, 'b': 2, 'c': 3}\n",
      "{'c': 4, 'd': 5, 'e': 6}\n"
     ]
    }
   ],
   "source": []
  },
  {
   "cell_type": "code",
   "execution_count": 68,
   "id": "136baca6-ca71-4162-bb13-d2021326b178",
   "metadata": {},
   "outputs": [
    {
     "name": "stdout",
     "output_type": "stream",
     "text": [
      "{}\n",
      "Intersection = {'c': (3, 4)}\n",
      "Union = {'a': 1, 'b': 2, 'c': 4, 'd': 5, 'e': 6}\n"
     ]
    }
   ],
   "source": [
    "dict1 = {}\n",
    "dict2 = {}\n",
    "# example = 'a 1 b 2 c 3,c 4 d 5 e 6'\n",
    "# parts = example.split(',')\n",
    "parts = input().split(',')\n",
    "\n",
    "for i in range(len(parts)):\n",
    "    if i % 2 == 0:\n",
    "        elements = parts[i].split()\n",
    "        for j in range(0, len(elements), 2):\n",
    "            dict1[elements[j]] = int(elements[j + 1])\n",
    "    else:\n",
    "        elements = parts[i]. split()\n",
    "        for j in range(0, len(elements), 2):\n",
    "            dict2[elements[j]] = int(elements[j + 1])\n",
    "\n",
    "def function(dict1: dict, dict2: dict):    \n",
    "    intersection = {}\n",
    "    union = {}\n",
    "    for key in dict2:\n",
    "        if key in dict1:\n",
    "            if dict2[key] >= dict1[key]:\n",
    "                intersection[key] = (dict1[key], dict2[key])\n",
    "                dict1[key] = dict2[key]\n",
    "            else:\n",
    "                intersection[key] = (dict2[key], dict1[key])\n",
    "        else:\n",
    "            dict1[key] = dict2[key]\n",
    "    # print(union)\n",
    "    return intersection, dict1\n",
    "intersection, dict1 = function(dict1, dict2)        \n",
    "print('Intersection =', intersection)\n",
    "print('Union =',dict1)"
   ]
  },
  {
   "cell_type": "markdown",
   "id": "a3a853b0-d9a6-40af-9587-fc5270f5b2ca",
   "metadata": {},
   "source": [
    "# <b>Question 9</b><br>\n",
    "Write a Python function to find the first non-repeating element in a tuple. print 'None' if program can't find non-repeating element"
   ]
  },
  {
   "cell_type": "code",
   "execution_count": 123,
   "id": "32273cb0-b069-4501-9329-6724670aa0b7",
   "metadata": {},
   "outputs": [
    {
     "name": "stdin",
     "output_type": "stream",
     "text": [
      " 1,2,2,1,3,4,4\n"
     ]
    },
    {
     "name": "stdout",
     "output_type": "stream",
     "text": [
      "3\n"
     ]
    }
   ],
   "source": [
    "# example = tuple('1,2,2,2,1,4,5'.split(','))\n",
    "example = tuple(input().split(','))\n",
    "def firstNonRepeating(tpl: tuple):\n",
    "    for i in range(len(tpl)):\n",
    "        j = 0\n",
    "        while(j < len(tpl)):\n",
    "            if (i != j and int(tpl[i]) == int(tpl[j])):\n",
    "                break\n",
    "            j += 1\n",
    "        if (j == len(tpl)):\n",
    "            return int(tpl[i])\n",
    "    return None\n",
    "print(firstNonRepeating(tpl=example))"
   ]
  },
  {
   "cell_type": "markdown",
   "id": "0b901f7d-3fcc-492a-8881-ca7941c89d32",
   "metadata": {},
   "source": [
    "<b>Question 10</b><br>\n",
    "Write a Python function to check if a dictionary is a subset of another dictionary.<br>\n",
    "\n",
    "Note that you must check both key and value."
   ]
  },
  {
   "cell_type": "code",
   "execution_count": 130,
   "id": "b17028d8-157c-4c71-844f-86d1e43ebc05",
   "metadata": {},
   "outputs": [
    {
     "name": "stdout",
     "output_type": "stream",
     "text": [
      "False\n"
     ]
    }
   ],
   "source": [
    "dict1 = {}\n",
    "dict2 = {}\n",
    "# example = 'c 3 d 4 e 5 m 12,a 1 b 2 c 3 d 4 e 5 f 6 g 7'\n",
    "# parts = example.split(',')\n",
    "parts = input().split(',')\n",
    "\n",
    "for i in range(len(parts)):\n",
    "    if i % 2 == 0:\n",
    "        elements = parts[i].split()\n",
    "        for j in range(0, len(elements), 2):\n",
    "            dict1[elements[j]] = int(elements[j + 1])\n",
    "    else:\n",
    "        elements = parts[i]. split()\n",
    "        for j in range(0, len(elements), 2):\n",
    "            dict2[elements[j]] = int(elements[j + 1])\n",
    "            \n",
    "def isSubSet(dict1: dict, dict2: dict):            \n",
    "    size_1 = len(dict1)\n",
    "    size_2 = len(dict2)\n",
    "    \n",
    "    if size_1 >= size_2:\n",
    "        counter = size_2\n",
    "        for key_2, value_2 in dict2.items():\n",
    "            for key_1, value_1 in dict1.items():\n",
    "                if key_1 == key_2 and value_1 == value_2:\n",
    "                    counter -= 1\n",
    "        if counter == 0:\n",
    "            return True\n",
    "        return False\n",
    "                \n",
    "    else:\n",
    "        counter = size_1\n",
    "        for key_1, value_1 in dict1.items():\n",
    "            for key_2, value_2 in dict2.items():\n",
    "                if key_1 == key_2 and value_1 == value_2:\n",
    "                    counter -= 1\n",
    "        if counter == 0:\n",
    "            return True\n",
    "        return False\n",
    "    \n",
    "print(isSubSet(dict1, dict2))   "
   ]
  },
  {
   "cell_type": "markdown",
   "id": "5be0db35-aa59-47c6-b3b8-27c17327650f",
   "metadata": {},
   "source": [
    "<b>Question 11</b><br>\n",
    "Write a Python function to find the most common element in a tuple, then print the number and its occurrences."
   ]
  },
  {
   "cell_type": "code",
   "execution_count": 145,
   "id": "fd73a488-b435-4964-92d2-76cfee0e1571",
   "metadata": {},
   "outputs": [
    {
     "name": "stdout",
     "output_type": "stream",
     "text": [
      "Common number is 2\n",
      "The occurrence counts of the common number is 4\n"
     ]
    }
   ],
   "source": [
    "# example = tuple('1,2,2,2,1,4,5,4,2,4'.split(','))\n",
    "example = tuple(input().split(','))\n",
    "def mostCommon(tpl: tuple):\n",
    "    most = [0, 0]\n",
    "    for i in range(len(tpl)):\n",
    "        j = 0\n",
    "        counter = 1\n",
    "        while(j < len(tpl)):\n",
    "            if (i != j and int(tpl[i]) == int(tpl[j])):\n",
    "                counter += 1\n",
    "            j += 1\n",
    "        if (most[1] < counter):\n",
    "            most[1] = counter\n",
    "            most[0] = int(tpl[i])           \n",
    "    return most\n",
    "result = mostCommon(tpl=example)\n",
    "\n",
    "print('Common number is', result[0])\n",
    "print('The occurrence counts of the common number is', result[1])"
   ]
  },
  {
   "cell_type": "markdown",
   "id": "13152f12-d858-4341-853f-9aafca8fb244",
   "metadata": {},
   "source": [
    "<b>Question 12</b><br>\n",
    "Write a Python function to find the longest common prefix among an array of strings. Note that input is a tuple. Print 'None' if there is not any longest common prefix."
   ]
  },
  {
   "cell_type": "code",
   "execution_count": 109,
   "id": "196eeb19-6a7d-43fa-80f6-4479bbcaa182",
   "metadata": {},
   "outputs": [
    {
     "name": "stdin",
     "output_type": "stream",
     "text": [
      " \n"
     ]
    },
    {
     "name": "stdout",
     "output_type": "stream",
     "text": [
      "\n"
     ]
    }
   ],
   "source": [
    "# example = 'flower,flour,flow'\n",
    "# example = tuple(example.split(','))\n",
    "example = tuple(input().split(','))\n",
    "lst = [item for item in example]\n",
    "\n",
    "def longestCommonPrefix(lstString: list):\n",
    "    if len(lstString) == 0:\n",
    "        return None\n",
    "    shortest = min(lstString, key=len)\n",
    "    for index, char in enumerate(shortest):\n",
    "        # print(index, char)\n",
    "        for item in lstString:\n",
    "            if item[index] != char:\n",
    "                return shortest[:index]\n",
    "    return shortest \n",
    "print(longestCommonPrefix(lstString=lst))"
   ]
  },
  {
   "cell_type": "markdown",
   "id": "cf0100f2-4bfc-4d86-96ad-1ed19d0ef71c",
   "metadata": {},
   "source": [
    "<b>Question 13</b><br>\n",
    "Write a Python program to sum the missing numbers in a given tuple of integers."
   ]
  },
  {
   "cell_type": "code",
   "execution_count": 36,
   "id": "603f7f67-1b20-47ec-8dbb-62ab12e6f273",
   "metadata": {},
   "outputs": [
    {
     "name": "stdout",
     "output_type": "stream",
     "text": [
      "93\n"
     ]
    }
   ],
   "source": [
    "# example = tuple('44,45,48'.split(','))\n",
    "\n",
    "example = tuple(input().split(','))\n",
    "lst = [int(item) for item in example]\n",
    "result = 0\n",
    "for i in range(min(lst), max(lst) + 1):\n",
    "    if i not in lst: # hint\n",
    "        result += i\n",
    "print(result)"
   ]
  },
  {
   "cell_type": "markdown",
   "id": "d21d8d5a-c951-49ae-b7e2-5cc4356432f2",
   "metadata": {},
   "source": [
    "<b>Question 14</b><br>"
   ]
  },
  {
   "cell_type": "markdown",
   "id": "f6820f5a-ecc9-4c41-a5e5-11ed0141fa89",
   "metadata": {},
   "source": [
    "<b>Question 15</b><br>"
   ]
  },
  {
   "cell_type": "code",
   "execution_count": null,
   "id": "9e493b2b-9d2e-4359-b8f3-96ac82b5fa48",
   "metadata": {},
   "outputs": [],
   "source": []
  }
 ],
 "metadata": {
  "kernelspec": {
   "display_name": "Python 3 (ipykernel)",
   "language": "python",
   "name": "python3"
  },
  "language_info": {
   "codemirror_mode": {
    "name": "ipython",
    "version": 3
   },
   "file_extension": ".py",
   "mimetype": "text/x-python",
   "name": "python",
   "nbconvert_exporter": "python",
   "pygments_lexer": "ipython3",
   "version": "3.10.1"
  }
 },
 "nbformat": 4,
 "nbformat_minor": 5
}
