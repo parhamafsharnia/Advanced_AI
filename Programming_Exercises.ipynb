{
 "cells": [
  {
   "cell_type": "markdown",
   "id": "94a70475",
   "metadata": {},
   "source": [
    "### Session 2"
   ]
  },
  {
   "cell_type": "code",
   "execution_count": null,
   "id": "6b8f421f",
   "metadata": {},
   "outputs": [],
   "source": [
    "#2.1\n",
    "degree = eval(input(\"\"))"
   ]
  }
 ],
 "metadata": {
  "kernelspec": {
   "display_name": "Python 3 (ipykernel)",
   "language": "python",
   "name": "python3"
  },
  "language_info": {
   "codemirror_mode": {
    "name": "ipython",
    "version": 3
   },
   "file_extension": ".py",
   "mimetype": "text/x-python",
   "name": "python",
   "nbconvert_exporter": "python",
   "pygments_lexer": "ipython3",
   "version": "3.10.1"
  }
 },
 "nbformat": 4,
 "nbformat_minor": 5
}
