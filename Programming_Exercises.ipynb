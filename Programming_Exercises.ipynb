{
 "cells": [
  {
   "cell_type": "markdown",
   "id": "94a70475",
   "metadata": {},
   "source": [
    "### Session 2"
   ]
  },
  {
   "cell_type": "code",
   "execution_count": 5,
   "id": "695ebd3b",
   "metadata": {
    "ExecuteTime": {
     "end_time": "2023-10-04T08:55:44.124088Z",
     "start_time": "2023-10-04T08:55:44.119076Z"
    }
   },
   "outputs": [
    {
     "name": "stdout",
     "output_type": "stream",
     "text": [
      "3.141592653589793\n"
     ]
    }
   ],
   "source": [
    "import math\n",
    "Pi = math.pi\n",
    "print(Pi)"
   ]
  },
  {
   "cell_type": "code",
   "execution_count": 2,
   "id": "6b8f421f",
   "metadata": {
    "ExecuteTime": {
     "end_time": "2023-10-04T06:18:36.740619Z",
     "start_time": "2023-10-04T06:18:31.794954Z"
    }
   },
   "outputs": [
    {
     "name": "stdout",
     "output_type": "stream",
     "text": [
      "Enter a Degree in Celsius:\t43\n",
      "43 Celsius is 109.4 Fahrenheit\n"
     ]
    }
   ],
   "source": [
    "# 2.1\n",
    "celsius = eval(input(\"Enter a Degree in Celsius:\\t\"))\n",
    "fahrenheit = (9 / 5) * celsius + 32\n",
    "print(f\"{celsius} Celsius is {fahrenheit} Fahrenheit\")"
   ]
  },
  {
   "cell_type": "code",
   "execution_count": 3,
   "id": "b437310b",
   "metadata": {
    "ExecuteTime": {
     "end_time": "2023-10-04T06:18:50.480907Z",
     "start_time": "2023-10-04T06:18:42.377518Z"
    }
   },
   "outputs": [
    {
     "name": "stdout",
     "output_type": "stream",
     "text": [
      "Enter the radius of a cylinder:\t5.5\n",
      "Enter the length of a cylinder:\t12\n",
      "the area is 95.03317777109125\n",
      "the volume is 1140.398133253095\n"
     ]
    }
   ],
   "source": [
    "# 2.2\n",
    "radius = eval(input(\"Enter the radius of a cylinder:\\t\"))\n",
    "length = eval(input(\"Enter the length of a cylinder:\\t\"))\n",
    "area = radius * radius * Pi\n",
    "volume = area * length\n",
    "print(f\"the area is {area}\")\n",
    "print(f\"the volume is {volume}\")"
   ]
  },
  {
   "cell_type": "code",
   "execution_count": 5,
   "id": "d2b15916",
   "metadata": {
    "ExecuteTime": {
     "end_time": "2023-10-04T06:21:59.956581Z",
     "start_time": "2023-10-04T06:21:54.929050Z"
    }
   },
   "outputs": [
    {
     "name": "stdout",
     "output_type": "stream",
     "text": [
      "Enter a value for feet:\t16.5\n",
      "16.5 feet is 5.0325 meter\n"
     ]
    }
   ],
   "source": [
    "# 2.3 \n",
    "feet = eval(input(\"Enter a value for feet:\\t\"))\n",
    "meter = feet * 0.305\n",
    "print(f\"{feet} feet is {meter} meter\")"
   ]
  },
  {
   "cell_type": "code",
   "execution_count": 6,
   "id": "6d3f288a",
   "metadata": {
    "ExecuteTime": {
     "end_time": "2023-10-04T06:24:58.195952Z",
     "start_time": "2023-10-04T06:24:48.457871Z"
    }
   },
   "outputs": [
    {
     "name": "stdout",
     "output_type": "stream",
     "text": [
      "Enter a value in pounds55.5\n",
      "55.5 pounds is 25.197 kilograms\n"
     ]
    }
   ],
   "source": [
    "#2.4\n",
    "pounds = eval(input(\"Enter a value in pounds\"))\n",
    "kilograms = pounds * 0.454\n",
    "print(f\"{pounds} pounds is {kilograms} kilograms\")"
   ]
  },
  {
   "cell_type": "code",
   "execution_count": 1,
   "id": "dd2738d9",
   "metadata": {
    "ExecuteTime": {
     "end_time": "2023-10-04T06:33:57.749910Z",
     "start_time": "2023-10-04T06:33:39.857629Z"
    }
   },
   "outputs": [
    {
     "name": "stdout",
     "output_type": "stream",
     "text": [
      "Enter the subtotal:15.69\n",
      "Enter the gratuity rate:15\n",
      "The gratuity is 2.3535 and the total is 18.043499999999998\n"
     ]
    }
   ],
   "source": [
    "# 2.5\n",
    "subTotal = eval(input(\"Enter the subtotal:\"))\n",
    "gratuityRate = eval(input(\"Enter the gratuity rate:\"))\n",
    "gratuity = subTotal * (gratuityRate / 100)\n",
    "total = subTotal + gratuity\n",
    "print(f\"The gratuity is {gratuity} and the total is {total}\")"
   ]
  },
  {
   "cell_type": "code",
   "execution_count": 4,
   "id": "6b429aa6",
   "metadata": {
    "ExecuteTime": {
     "end_time": "2023-10-04T06:46:19.490143Z",
     "start_time": "2023-10-04T06:41:57.178827Z"
    }
   },
   "outputs": [
    {
     "name": "stdout",
     "output_type": "stream",
     "text": [
      "Enter a number between 0 and 1000:\t123\n",
      "the sum of the digits is 6\n"
     ]
    }
   ],
   "source": [
    "#2.6 \n",
    "number = eval(input(\"Enter a number between 0 and 1000:\\t\"))\n",
    "d1 = number % 10\n",
    "n1 = number // 10\n",
    "\n",
    "d2 = n1 % 10\n",
    "n2 = n1 // 10\n",
    "\n",
    "print(f'the sum of the digits is {d1 + d2 + n2}')\n"
   ]
  },
  {
   "cell_type": "code",
   "execution_count": 5,
   "id": "241303f9",
   "metadata": {
    "ExecuteTime": {
     "end_time": "2023-10-04T07:18:07.790062Z",
     "start_time": "2023-10-04T07:17:49.149519Z"
    }
   },
   "outputs": [
    {
     "name": "stdout",
     "output_type": "stream",
     "text": [
      "Enter the number of minutes:1000000000\n",
      "1000000000 minutes is approximately 1902 and 960 days\n"
     ]
    }
   ],
   "source": [
    "# 2.7\n",
    "minutes = eval(input('Enter the number of minutes:'))\n",
    "years = minutes // (365 * 24 * 60)\n",
    "days = minutes % 60 * 24\n",
    "print(f'{minutes} minutes is approximately {years} and {days} days')"
   ]
  },
  {
   "cell_type": "code",
   "execution_count": 7,
   "id": "b78e7871",
   "metadata": {
    "ExecuteTime": {
     "end_time": "2023-10-04T07:28:21.555775Z",
     "start_time": "2023-10-04T07:28:13.310015Z"
    }
   },
   "outputs": [
    {
     "name": "stdout",
     "output_type": "stream",
     "text": [
      "Enter the amount of water in kilograms:55.5\n",
      "Enter the initial temperature:3.5\n",
      "Enter the final temperature:10.5\n",
      "The energy needed is 1625484.0\n"
     ]
    }
   ],
   "source": [
    "#2.8\n",
    "M = eval(input('Enter the amount of water in kilograms:'))\n",
    "initialTemperature = eval(input('Enter the initial temperature:'))\n",
    "finalTemperature = eval(input('Enter the final temperature:'))\n",
    "Q = M * (finalTemperature - initialTemperature) * 4184\n",
    "print(f'The energy needed is {Q}')"
   ]
  },
  {
   "cell_type": "code",
   "execution_count": 11,
   "id": "a49d7940",
   "metadata": {
    "ExecuteTime": {
     "end_time": "2023-10-04T07:39:17.486903Z",
     "start_time": "2023-10-04T07:39:04.469062Z"
    }
   },
   "outputs": [
    {
     "name": "stdout",
     "output_type": "stream",
     "text": [
      "Enter the temperature in Fahrenheit between -58 and 41:5.3\n",
      "Enter the wind speed in miles per hour:6\n",
      "The wind chill index is -5.553748456641422\n"
     ]
    }
   ],
   "source": [
    "# 2.9\n",
    "temperature = eval(input('Enter the temperature in Fahrenheit between -58 and 41:'))\n",
    "windSpeed = eval(input('Enter the wind speed in miles per hour:'))\n",
    "Twc = 35.74 + (0.6215 * temperature) - (35.74 * (windSpeed ** 0.16)) +\\\n",
    "(0.4275 * (temperature * (windSpeed ** 0.16)))\n",
    "print(f'The wind chill index is {Twc}')\n"
   ]
  },
  {
   "cell_type": "code",
   "execution_count": 12,
   "id": "e91118d0",
   "metadata": {
    "ExecuteTime": {
     "end_time": "2023-10-04T07:43:05.932267Z",
     "start_time": "2023-10-04T07:42:57.260698Z"
    }
   },
   "outputs": [
    {
     "name": "stdout",
     "output_type": "stream",
     "text": [
      "Enter speed:60\n",
      "Enter acceleration:3.5\n",
      "The minimum runway length for this airplane is 514.2857142857143 meters\n"
     ]
    }
   ],
   "source": [
    "#2.10\n",
    "speed = eval(input('Enter speed:'))\n",
    "acceleration = eval(input('Enter acceleration:'))\n",
    "length = (speed ** 2) / (2 * acceleration)\n",
    "print(f'The minimum runway length for this airplane is {length} meters')"
   ]
  },
  {
   "cell_type": "code",
   "execution_count": 17,
   "id": "c41e42d2",
   "metadata": {
    "ExecuteTime": {
     "end_time": "2023-10-04T08:19:02.290436Z",
     "start_time": "2023-10-04T08:18:47.064818Z"
    }
   },
   "outputs": [
    {
     "name": "stdout",
     "output_type": "stream",
     "text": [
      "Enter final account value:1000\n",
      "Enter annual interest rate in percent:4.25\n",
      "Enter number of years:5\n",
      "Initial deposit value is 1.2579774145856983e-05\n"
     ]
    }
   ],
   "source": [
    "# 2.11\n",
    "finalAccountValue = eval(input('Enter final account value:'))\n",
    "annualInterestRate = eval(input('Enter annual interest rate in percent:'))\n",
    "yearsNumber = eval(input('Enter number of years:'))\n",
    "monthsNumber = yearsNumber * 12\n",
    "monthlyInterestRate = annualInterestRate / 12\n",
    "initialDepositeAmount = finalAccountValue / (1 + monthlyInterestRate) ** monthsNumber\n",
    "print(f'Initial deposit value is {initialDepositeAmount}')"
   ]
  },
  {
   "cell_type": "code",
   "execution_count": 20,
   "id": "05bacf7a",
   "metadata": {
    "ExecuteTime": {
     "end_time": "2023-10-04T08:24:17.699894Z",
     "start_time": "2023-10-04T08:24:17.692610Z"
    }
   },
   "outputs": [
    {
     "name": "stdout",
     "output_type": "stream",
     "text": [
      "a\t b\t a ** b\n",
      "1\t 2\t 1\n",
      "2\t 3\t 8\n",
      "3\t 4\t 81\n",
      "4\t 5\t 1024\n",
      "5\t 6\t 15625\n"
     ]
    }
   ],
   "source": [
    "# 2.12 \n",
    "print('a\\t', 'b\\t', 'a ** b')\n",
    "print('1\\t', '2\\t', 1 ** 2)\n",
    "print('2\\t', '3\\t', 2 ** 3)\n",
    "print('3\\t', '4\\t', 3 ** 4)\n",
    "print('4\\t', '5\\t', 4 ** 5)\n",
    "print('5\\t', '6\\t', 5 ** 6)"
   ]
  },
  {
   "cell_type": "code",
   "execution_count": 1,
   "id": "8680d7ec",
   "metadata": {
    "ExecuteTime": {
     "end_time": "2023-10-04T08:37:05.077270Z",
     "start_time": "2023-10-04T08:36:57.165813Z"
    }
   },
   "outputs": [
    {
     "name": "stdout",
     "output_type": "stream",
     "text": [
      "Enter an integer:3125\n",
      "3 \n",
      " 1 \n",
      " 2 \n",
      " 5 \n",
      "\n"
     ]
    }
   ],
   "source": [
    "# 2.13\n",
    "number = eval(input('Enter an integer:'))\n",
    "n1 = number // 10\n",
    "d1 = number % 10\n",
    "\n",
    "n2 = n1 // 10\n",
    "d2 = n1 % 10\n",
    "\n",
    "d4 = n2 // 10 \n",
    "d3 = n2 % 10\n",
    "\n",
    "print(d4, '\\n', d3, '\\n', d2, '\\n', d1, '\\n')"
   ]
  },
  {
   "cell_type": "code",
   "execution_count": 7,
   "id": "303b622e",
   "metadata": {
    "ExecuteTime": {
     "end_time": "2023-10-04T08:56:36.861000Z",
     "start_time": "2023-10-04T08:56:29.289266Z"
    }
   },
   "outputs": [
    {
     "name": "stdout",
     "output_type": "stream",
     "text": [
      "Enter three points for a triangle:1.5, -3.4, 4.6, 5, 9.5, -3.4\n",
      "The area of the triangle is 33.600000000000016\n"
     ]
    }
   ],
   "source": [
    "# 2.14\n",
    "x1, y1, x2, y2, x3, y3 = eval(input('Enter three points for a triangle:'))\n",
    "\n",
    "# squared = math.sqrt(toSquare)\n",
    "\n",
    "side1 = math.sqrt(((x2 - x1) ** 2) + ((y2 - y1) ** 2))\n",
    "side2 = math.sqrt(((x3 - x1) ** 2) + ((y3 - y1) ** 2))\n",
    "side3 = math.sqrt(((x3 - x2) ** 2) + ((y3 - y2) ** 2))\n",
    "\n",
    "s = (side1 + side2 + side3) / 2\n",
    "area = math.sqrt(s * (s - side1) * (s - side2) * (s - side3))\n",
    "\n",
    "print(f'The area of the triangle is {area}')"
   ]
  },
  {
   "cell_type": "code",
   "execution_count": 8,
   "id": "3ff51740",
   "metadata": {
    "ExecuteTime": {
     "end_time": "2023-10-04T09:19:14.638051Z",
     "start_time": "2023-10-04T09:19:10.255787Z"
    }
   },
   "outputs": [
    {
     "name": "stdout",
     "output_type": "stream",
     "text": [
      "Enter the side:5.5\n",
      "The area of the hexagon is 78.59180539343781\n"
     ]
    }
   ],
   "source": [
    "# 2.15\n",
    "side = eval(input('Enter the side:'))\n",
    "area = ((3 * math.sqrt(3)) / 2) *  side **2\n",
    "print(f'The area of the hexagon is {area}')"
   ]
  },
  {
   "cell_type": "code",
   "execution_count": 11,
   "id": "4940ad60",
   "metadata": {
    "ExecuteTime": {
     "end_time": "2023-10-04T09:22:41.687052Z",
     "start_time": "2023-10-04T09:22:40.272390Z"
    }
   },
   "outputs": [
    {
     "name": "stdout",
     "output_type": "stream",
     "text": [
      "Enter v0, v1, and t:5.5, 50.9, 4.5\n",
      "The average acceleration is 10.088888888888889\n"
     ]
    }
   ],
   "source": [
    "# 2.16\n",
    "v0, v1, t = eval(input('Enter v0, v1, and t:'))\n",
    "\n",
    "a = (v1 - v0) / t\n",
    "\n",
    "print(f'The average acceleration is {a}')"
   ]
  },
  {
   "cell_type": "code",
   "execution_count": 14,
   "id": "f394945c",
   "metadata": {
    "ExecuteTime": {
     "end_time": "2023-10-04T09:30:11.722071Z",
     "start_time": "2023-10-04T09:29:42.839989Z"
    }
   },
   "outputs": [
    {
     "name": "stdout",
     "output_type": "stream",
     "text": [
      "Enter weight in pounds:95.5\n",
      "Enter height in inches:50\n",
      "BMI is 26.857257942215885\n"
     ]
    }
   ],
   "source": [
    "# 2.17\n",
    "weightInPounds = eval(input('Enter weight in pounds:'))\n",
    "heightInInches = eval(input('Enter height in inches:'))\n",
    "weightInKilograms = weightInPounds * 0.45359237\n",
    "heightInMeters = heightInInches * 0.0254\n",
    "\n",
    "# Formula: weight (kg) / [height (m)]2 - CDC \n",
    "BMI = weightInKilograms / (heightInMeters) ** 2\n",
    "\n",
    "print(f'BMI is {BMI}')"
   ]
  },
  {
   "cell_type": "code",
   "execution_count": 11,
   "id": "66b2fe99",
   "metadata": {
    "ExecuteTime": {
     "end_time": "2023-10-04T10:05:32.605749Z",
     "start_time": "2023-10-04T10:05:29.858008Z"
    }
   },
   "outputs": [
    {
     "name": "stdout",
     "output_type": "stream",
     "text": [
      "Enter the time zone offset to GMT:-5\n",
      "10:5:32 GTM\n",
      "The current time is 5:5:32 GTM\n"
     ]
    }
   ],
   "source": [
    "# 2.18\n",
    "timeZoneOffset = eval(input('Enter the time zone offset to GMT:'))\n",
    "##### \n",
    "# as I live in +3.5\n",
    "h = int(timeZoneOffset // 1)\n",
    "m = int((timeZoneOffset % 1) * 60)\n",
    "# \n",
    "#####\n",
    "import time \n",
    "currentTime = time.time() # get current time \n",
    "totalSec = int(currentTime)\n",
    "currentSec = totalSec % 60\n",
    "totalMin = totalSec // 60 \n",
    "currentMin = totalMin % 60\n",
    "totalH = totalMin // 60\n",
    "currentH = totalH % 24\n",
    "\n",
    "hour = (currentMin + m) // 60\n",
    "\n",
    "minute = (currentMin + m) % 60\n",
    "\n",
    "print(f'{currentH}:{currentMin}:{currentSec} GTM')\n",
    "print(f'The current time is {currentH + h + hour}:{minute}:{currentSec} GTM')"
   ]
  },
  {
   "cell_type": "code",
   "execution_count": 27,
   "id": "e9bd3ba4",
   "metadata": {
    "ExecuteTime": {
     "end_time": "2023-10-04T09:49:36.784721Z",
     "start_time": "2023-10-04T09:49:36.778919Z"
    }
   },
   "outputs": [
    {
     "data": {
      "text/plain": [
       "1"
      ]
     },
     "execution_count": 27,
     "metadata": {},
     "output_type": "execute_result"
    }
   ],
   "source": [
    "78 // 60"
   ]
  },
  {
   "cell_type": "code",
   "execution_count": 23,
   "id": "5fc76c55",
   "metadata": {
    "ExecuteTime": {
     "end_time": "2023-10-04T09:44:55.076410Z",
     "start_time": "2023-10-04T09:44:55.071119Z"
    }
   },
   "outputs": [
    {
     "data": {
      "text/plain": [
       "30.0"
      ]
     },
     "execution_count": 23,
     "metadata": {},
     "output_type": "execute_result"
    }
   ],
   "source": [
    "60 * .5"
   ]
  },
  {
   "cell_type": "code",
   "execution_count": null,
   "id": "f2058f39",
   "metadata": {},
   "outputs": [],
   "source": []
  }
 ],
 "metadata": {
  "kernelspec": {
   "display_name": "Python 3 (ipykernel)",
   "language": "python",
   "name": "python3"
  },
  "language_info": {
   "codemirror_mode": {
    "name": "ipython",
    "version": 3
   },
   "file_extension": ".py",
   "mimetype": "text/x-python",
   "name": "python",
   "nbconvert_exporter": "python",
   "pygments_lexer": "ipython3",
   "version": "3.10.1"
  }
 },
 "nbformat": 4,
 "nbformat_minor": 5
}
