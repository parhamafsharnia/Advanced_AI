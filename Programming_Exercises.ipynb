{
 "cells": [
  {
   "cell_type": "markdown",
   "id": "94a70475",
   "metadata": {},
   "source": [
    "### Session 2"
   ]
  },
  {
   "cell_type": "code",
   "execution_count": 1,
   "id": "695ebd3b",
   "metadata": {
    "ExecuteTime": {
     "end_time": "2023-10-04T06:18:30.805066Z",
     "start_time": "2023-10-04T06:18:30.794814Z"
    }
   },
   "outputs": [
    {
     "name": "stdout",
     "output_type": "stream",
     "text": [
      "3.141592653589793\n"
     ]
    }
   ],
   "source": [
    "import math\n",
    "Pi = math.pi\n",
    "print(Pi)"
   ]
  },
  {
   "cell_type": "code",
   "execution_count": 2,
   "id": "6b8f421f",
   "metadata": {
    "ExecuteTime": {
     "end_time": "2023-10-04T06:18:36.740619Z",
     "start_time": "2023-10-04T06:18:31.794954Z"
    }
   },
   "outputs": [
    {
     "name": "stdout",
     "output_type": "stream",
     "text": [
      "Enter a Degree in Celsius:\t43\n",
      "43 Celsius is 109.4 Fahrenheit\n"
     ]
    }
   ],
   "source": [
    "#2.1\n",
    "celsius = eval(input(\"Enter a Degree in Celsius:\\t\"))\n",
    "fahrenheit = (9 / 5) * celsius + 32\n",
    "print(f\"{celsius} Celsius is {fahrenheit} Fahrenheit\")"
   ]
  },
  {
   "cell_type": "code",
   "execution_count": 3,
   "id": "b437310b",
   "metadata": {
    "ExecuteTime": {
     "end_time": "2023-10-04T06:18:50.480907Z",
     "start_time": "2023-10-04T06:18:42.377518Z"
    }
   },
   "outputs": [
    {
     "name": "stdout",
     "output_type": "stream",
     "text": [
      "Enter the radius of a cylinder:\t5.5\n",
      "Enter the length of a cylinder:\t12\n",
      "the area is 95.03317777109125\n",
      "the volume is 1140.398133253095\n"
     ]
    }
   ],
   "source": [
    "#2.2\n",
    "radius = eval(input(\"Enter the radius of a cylinder:\\t\"))\n",
    "length = eval(input(\"Enter the length of a cylinder:\\t\"))\n",
    "area = radius * radius * Pi\n",
    "volume = area * length\n",
    "print(f\"the area is {area}\")\n",
    "print(f\"the volume is {volume}\")"
   ]
  },
  {
   "cell_type": "code",
   "execution_count": 5,
   "id": "d2b15916",
   "metadata": {
    "ExecuteTime": {
     "end_time": "2023-10-04T06:21:59.956581Z",
     "start_time": "2023-10-04T06:21:54.929050Z"
    }
   },
   "outputs": [
    {
     "name": "stdout",
     "output_type": "stream",
     "text": [
      "Enter a value for feet:\t16.5\n",
      "16.5 feet is 5.0325 meter\n"
     ]
    }
   ],
   "source": [
    "#2.3 \n",
    "feet = eval(input(\"Enter a value for feet:\\t\"))\n",
    "meter = feet * 0.305\n",
    "print(f\"{feet} feet is {meter} meter\")"
   ]
  },
  {
   "cell_type": "code",
   "execution_count": 6,
   "id": "09c8d738",
   "metadata": {
    "ExecuteTime": {
     "end_time": "2023-10-04T06:24:58.195952Z",
     "start_time": "2023-10-04T06:24:48.457871Z"
    }
   },
   "outputs": [
    {
     "name": "stdout",
     "output_type": "stream",
     "text": [
      "Enter a value in pounds55.5\n",
      "55.5 pounds is 25.197 kilograms\n"
     ]
    }
   ],
   "source": [
    "#2.4\n",
    "pounds = eval(input(\"Enter a value in pounds\"))\n",
    "kilograms = pounds * 0.454\n",
    "print(f\"{pounds} pounds is {kilograms} kilograms\")"
   ]
  },
  {
   "cell_type": "code",
   "execution_count": 1,
   "id": "23aef69f",
   "metadata": {
    "ExecuteTime": {
     "end_time": "2023-10-04T06:33:57.749910Z",
     "start_time": "2023-10-04T06:33:39.857629Z"
    }
   },
   "outputs": [
    {
     "name": "stdout",
     "output_type": "stream",
     "text": [
      "Enter the subtotal:15.69\n",
      "Enter the gratuity rate:15\n",
      "The gratuity is 2.3535 and the total is 18.043499999999998\n"
     ]
    }
   ],
   "source": [
    "#2.5\n",
    "subTotal = eval(input(\"Enter the subtotal:\"))\n",
    "gratuityRate = eval(input(\"Enter the gratuity rate:\"))\n",
    "gratuity = subTotal * (gratuityRate / 100)\n",
    "total = subTotal + gratuity\n",
    "print(f\"The gratuity is {gratuity} and the total is {total}\")"
   ]
  },
  {
   "cell_type": "code",
   "execution_count": 4,
   "id": "68b83448",
   "metadata": {
    "ExecuteTime": {
     "end_time": "2023-10-04T06:46:19.490143Z",
     "start_time": "2023-10-04T06:41:57.178827Z"
    }
   },
   "outputs": [
    {
     "name": "stdout",
     "output_type": "stream",
     "text": [
      "Enter a number between 0 and 1000:\t123\n",
      "the sum of the digits is 6\n"
     ]
    }
   ],
   "source": [
    "#2.6 \n",
    "number = eval(input(\"Enter a number between 0 and 1000:\\t\"))\n",
    "d1 = number % 10\n",
    "n1 = number // 10\n",
    "\n",
    "d2 = n1 % 10\n",
    "n2 = n1 // 10\n",
    "\n",
    "print(f'the sum of the digits is {d1 + d2 + n2}')\n"
   ]
  },
  {
   "cell_type": "code",
   "execution_count": 5,
   "id": "b8fa0a8d",
   "metadata": {
    "ExecuteTime": {
     "end_time": "2023-10-04T07:18:07.790062Z",
     "start_time": "2023-10-04T07:17:49.149519Z"
    }
   },
   "outputs": [
    {
     "name": "stdout",
     "output_type": "stream",
     "text": [
      "Enter the number of minutes:1000000000\n",
      "1000000000 minutes is approximately 1902 and 960 days\n"
     ]
    }
   ],
   "source": [
    "#2.7\n",
    "minutes = eval(input('Enter the number of minutes:'))\n",
    "years = minutes // (365 * 24 * 60)\n",
    "days = minutes % 60 * 24\n",
    "print(f'{minutes} minutes is approximately {years} and {days} days')"
   ]
  },
  {
   "cell_type": "code",
   "execution_count": 7,
   "id": "c1a2cb09",
   "metadata": {
    "ExecuteTime": {
     "end_time": "2023-10-04T07:28:21.555775Z",
     "start_time": "2023-10-04T07:28:13.310015Z"
    }
   },
   "outputs": [
    {
     "name": "stdout",
     "output_type": "stream",
     "text": [
      "Enter the amount of water in kilograms:55.5\n",
      "Enter the initial temperature:3.5\n",
      "Enter the final temperature:10.5\n",
      "The energy needed is 1625484.0\n"
     ]
    }
   ],
   "source": [
    "#2.8\n",
    "M = eval(input('Enter the amount of water in kilograms:'))\n",
    "initialTemperature = eval(input('Enter the initial temperature:'))\n",
    "finalTemperature = eval(input('Enter the final temperature:'))\n",
    "Q = M * (finalTemperature - initialTemperature) * 4184\n",
    "print(f'The energy needed is {Q}')"
   ]
  },
  {
   "cell_type": "code",
   "execution_count": 11,
   "id": "ae986963",
   "metadata": {
    "ExecuteTime": {
     "end_time": "2023-10-04T07:39:17.486903Z",
     "start_time": "2023-10-04T07:39:04.469062Z"
    }
   },
   "outputs": [
    {
     "name": "stdout",
     "output_type": "stream",
     "text": [
      "Enter the temperature in Fahrenheit between -58 and 41:5.3\n",
      "Enter the wind speed in miles per hour:6\n",
      "The wind chill index is -5.553748456641422\n"
     ]
    }
   ],
   "source": [
    "#2.9\n",
    "temperature = eval(input('Enter the temperature in Fahrenheit between -58 and 41:'))\n",
    "windSpeed = eval(input('Enter the wind speed in miles per hour:'))\n",
    "Twc = 35.74 + (0.6215 * temperature) - (35.74 * (windSpeed ** 0.16)) +\\\n",
    "(0.4275 * (temperature * (windSpeed ** 0.16)))\n",
    "print(f'The wind chill index is {Twc}')\n"
   ]
  },
  {
   "cell_type": "code",
   "execution_count": 12,
   "id": "c4aaa131",
   "metadata": {
    "ExecuteTime": {
     "end_time": "2023-10-04T07:43:05.932267Z",
     "start_time": "2023-10-04T07:42:57.260698Z"
    }
   },
   "outputs": [
    {
     "name": "stdout",
     "output_type": "stream",
     "text": [
      "Enter speed:60\n",
      "Enter acceleration:3.5\n",
      "The minimum runway length for this airplane is 514.2857142857143 meters\n"
     ]
    }
   ],
   "source": [
    "#2.10\n",
    "speed = eval(input('Enter speed:'))\n",
    "acceleration = eval(input('Enter acceleration:'))\n",
    "length = (speed ** 2) / (2 * acceleration)\n",
    "print(f'The minimum runway length for this airplane is {length} meters')"
   ]
  },
  {
   "cell_type": "code",
   "execution_count": null,
   "id": "87cad2bf",
   "metadata": {},
   "outputs": [],
   "source": []
  }
 ],
 "metadata": {
  "kernelspec": {
   "display_name": "Python 3 (ipykernel)",
   "language": "python",
   "name": "python3"
  },
  "language_info": {
   "codemirror_mode": {
    "name": "ipython",
    "version": 3
   },
   "file_extension": ".py",
   "mimetype": "text/x-python",
   "name": "python",
   "nbconvert_exporter": "python",
   "pygments_lexer": "ipython3",
   "version": "3.10.1"
  }
 },
 "nbformat": 4,
 "nbformat_minor": 5
}
