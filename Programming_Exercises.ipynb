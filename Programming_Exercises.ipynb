{
 "cells": [
  {
   "cell_type": "markdown",
   "id": "94a70475",
   "metadata": {},
   "source": [
    "### Session 2"
   ]
  },
  {
   "cell_type": "code",
   "execution_count": 6,
   "id": "695ebd3b",
   "metadata": {
    "ExecuteTime": {
     "end_time": "2023-10-04T06:10:10.940693Z",
     "start_time": "2023-10-04T06:10:10.935705Z"
    }
   },
   "outputs": [
    {
     "name": "stdout",
     "output_type": "stream",
     "text": [
      "3.141592653589793\n"
     ]
    }
   ],
   "source": [
    "import math\n",
    "Pi = math.pi\n",
    "print(Pi)"
   ]
  },
  {
   "cell_type": "code",
   "execution_count": 4,
   "id": "6b8f421f",
   "metadata": {
    "ExecuteTime": {
     "end_time": "2023-10-04T06:03:55.960958Z",
     "start_time": "2023-10-04T06:03:50.736999Z"
    }
   },
   "outputs": [
    {
     "name": "stdout",
     "output_type": "stream",
     "text": [
      "Enter a Degree in Celsius:\t50\n",
      "50 Celsius is 122.0 Fahrenheit\n"
     ]
    }
   ],
   "source": [
    "#2.1\n",
    "celsius = eval(input(\"Enter a Degree in Celsius:\\t\"))\n",
    "fahrenheit = (9 / 5) * celsius + 32\n",
    "print(f\"{celsius} Celsius is {fahrenheit} Fahrenheit\")"
   ]
  },
  {
   "cell_type": "code",
   "execution_count": 9,
   "id": "b437310b",
   "metadata": {
    "ExecuteTime": {
     "end_time": "2023-10-04T06:12:46.972705Z",
     "start_time": "2023-10-04T06:12:37.769022Z"
    }
   },
   "outputs": [
    {
     "name": "stdout",
     "output_type": "stream",
     "text": [
      "Enter the radius of a cylinder:\t1\n",
      "Enter the length of a cylinder:\t1\n",
      "the area is 3.141592653589793\n",
      "the volume is 3.141592653589793\n"
     ]
    }
   ],
   "source": [
    "#2.2\n",
    "radius = eval(input(\"Enter the radius of a cylinder:\\t\"))\n",
    "length = eval(input(\"Enter the length of a cylinder:\\t\"))\n",
    "area = radius * radius * Pi\n",
    "volume = area * length\n",
    "print(f\"the area is {area}\")\n",
    "print(f\"the volume is {volume}\")"
   ]
  },
  {
   "cell_type": "code",
   "execution_count": null,
   "id": "d2b15916",
   "metadata": {},
   "outputs": [],
   "source": []
  }
 ],
 "metadata": {
  "kernelspec": {
   "display_name": "Python 3 (ipykernel)",
   "language": "python",
   "name": "python3"
  },
  "language_info": {
   "codemirror_mode": {
    "name": "ipython",
    "version": 3
   },
   "file_extension": ".py",
   "mimetype": "text/x-python",
   "name": "python",
   "nbconvert_exporter": "python",
   "pygments_lexer": "ipython3",
   "version": "3.10.1"
  }
 },
 "nbformat": 4,
 "nbformat_minor": 5
}
