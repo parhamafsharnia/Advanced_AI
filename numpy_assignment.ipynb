{
 "cells": [
  {
   "cell_type": "markdown",
   "id": "0cb48368-5c1d-410a-a98c-8e995dc05535",
   "metadata": {},
   "source": [
    "# Numpy exercises"
   ]
  },
  {
   "cell_type": "markdown",
   "id": "9d101fb8-a422-406d-aecc-7ab3ffe5b373",
   "metadata": {},
   "source": [
    "## Question 1\n",
    "Write a program that takes n vectors of m elements from the user, calculates the distances \n",
    "between the vectors and a randomly generated m-element vector, and prints the minimum \n",
    "distance as the output."
   ]
  },
  {
   "cell_type": "code",
   "execution_count": 258,
   "id": "0e3b73a3-c8b5-4d6c-ad99-3d683992be01",
   "metadata": {},
   "outputs": [
    {
     "name": "stdin",
     "output_type": "stream",
     "text": [
      "enter number of vectors 2\n",
      "enter number of elements 2\n",
      "enter vector1 of 2 elements 1,2\n",
      "enter vector2 of 2 elements 2,3\n"
     ]
    },
    {
     "name": "stdout",
     "output_type": "stream",
     "text": [
      "[(1, 2), (2, 3)]\n",
      "random vector [[3 5]]\n",
      "result:\n",
      " {(0, 'randomVec'): 3.605551275463989, (1, 'randomVec'): 2.23606797749979}\n"
     ]
    }
   ],
   "source": [
    "import numpy as np\n",
    "n = eval(input('enter number of vectors'))\n",
    "m = eval(input('enter number of elements'))\n",
    "vectorList = [] # from user\n",
    "\n",
    "for i in range(n):\n",
    "    vec = eval(input(f'enter vector{i + 1} of {m} elements'))\n",
    "    while len(vec) < m or len(vec) > m:\n",
    "        vec = eval(input(f'try again.\\n enter vector{i + 1} of {m} elements'))\n",
    "    vectorList.append(vec)\n",
    "print(vectorList)  \n",
    "        \n",
    "        \n",
    "\n",
    "def vectorGenerator(size=m, r=(0, 10), dtype='int'):\n",
    "    if dtype=='int':\n",
    "        return np.random.randint(low=r[0], high=r[1], size=(1, size))\n",
    "    np.random.uniform(size=m, low=r[0], high=r[1]) \n",
    "    \n",
    "\n",
    "\n",
    "# calculating Euclidean distance\n",
    "# using linalg.norm()\n",
    "def euclideanDistance(veclst, singleVec):\n",
    "    eucDist = {}\n",
    "    for v_i, vec_i in enumerate(veclst):\n",
    "        eucDist[(v_i, 'randomVec')] = np.linalg.norm(vec_i - singleVec)\n",
    "    return eucDist\n",
    "\n",
    "randomVec = vectorGenerator(size=m)\n",
    "print('random vector',randomVec)\n",
    "eucDist = euclideanDistance(veclst=vectorList, singleVec=randomVec)\n",
    "print('result:\\n', eucDist)"
   ]
  },
  {
   "cell_type": "markdown",
   "id": "ae83354e-ab1d-4c91-8950-fdd76f82a55a",
   "metadata": {
    "tags": []
   },
   "source": [
    "# Question 2\n",
    "Read the IASBS photo from your system and apply the following changes to it:\n",
    "<code>\n",
    "A- Change the type of photo array to 64float.\n",
    "B- Color the IASBS photo completely blue.\n",
    "C- Divide the photo into four equal parts.\n",
    "D- Select one of the previous four parts and convert the photo to negative.\n",
    "e- Select and save a part of the photo of step d as desired.\n",
    "F- Print the photo dimensions saved in the previous step and their type.\n",
    "</code>"
   ]
  },
  {
   "cell_type": "code",
   "execution_count": 259,
   "id": "293e2114-1a01-46f4-b4ce-09445bea6f4f",
   "metadata": {},
   "outputs": [],
   "source": [
    "# Import the necessary libraries\n",
    "from PIL import Image\n",
    "from numpy import asarray"
   ]
  },
  {
   "cell_type": "code",
   "execution_count": 260,
   "id": "6f5f8de9-ed1c-4a73-85cf-333af01689fa",
   "metadata": {},
   "outputs": [
    {
     "name": "stdout",
     "output_type": "stream",
     "text": [
      "uint8\n",
      "float64\n"
     ]
    }
   ],
   "source": [
    "# A-\n",
    "# load the image and convert into\n",
    "# numpy array\n",
    "path = 'IASBS.jpg'\n",
    "name = path.split('.')[0]\n",
    "img = Image.open('IASBS.jpg')\n",
    "\n",
    "# asarray() class is used to convert\n",
    "# PIL images into NumPy arrays\n",
    "\n",
    "npImg = asarray(img)\n",
    "# answer:\n",
    "npImg_float = np.array(npImg, dtype=float)\n",
    "# data type\n",
    "print(npImg.dtype)\n",
    "print(npImg_float.dtype)\n",
    "#### reference:\n",
    "#### https://www.geeksforgeeks.org/how-to-convert-images-to-numpy-array/"
   ]
  },
  {
   "cell_type": "code",
   "execution_count": 261,
   "id": "11aadffb-e161-4cfe-930b-7f15d9e1b529",
   "metadata": {
    "tags": []
   },
   "outputs": [],
   "source": [
    "# B-\n",
    "npImg_copy = npImg.copy()\n",
    "npImg_copy = asarray(npImg_copy)\n",
    "npImg_copy[:, :, 0] = npImg_copy[:,:,0] * 0\n",
    "npImg_copy[:, :, 1] = npImg_copy[:,:,1] * 0\n",
    "npImg_copy[:, :, 2] = npImg_copy[:,:,2] * 255\n",
    "save_b = Image.fromarray(npImg_copy, \"RGB\")\n",
    "save_b.save(f'numpyExercise_part2_B_{name}.png')"
   ]
  },
  {
   "cell_type": "code",
   "execution_count": 262,
   "id": "2da451d7-9c44-4aa1-9fcf-3cf2069cf8f2",
   "metadata": {},
   "outputs": [],
   "source": [
    "# C-E\n",
    "# first split width to 2 parts\n",
    "axis_0 = np.split(npImg, 2)\n",
    "splitted = []\n",
    "# then split each parts to 2 from height \n",
    "for _slice in axis_0:\n",
    "    splitted = splitted + np.split(_slice, 2, axis=1)\n",
    "# reformat & save\n",
    "for index, _slice in enumerate(splitted):\n",
    "    # img = _slice.astype(np.uint8)\n",
    "    img = Image.fromarray(_slice, \"RGB\")\n",
    "    img.save(f'numpyExercise_part2_C_{name}_{index}.png')"
   ]
  },
  {
   "cell_type": "code",
   "execution_count": 263,
   "id": "09339fe2-f860-4091-a977-581265a8911d",
   "metadata": {
    "tags": []
   },
   "outputs": [],
   "source": [
    "# D-\n",
    "# for example\n",
    "_slice_0 = splitted[0]\n",
    "# multiply datas by -1\n",
    "negative = _slice_0 * -1\n",
    "# convert to uint8 type\n",
    "img = negative.astype(np.uint8)\n",
    "# convert array\n",
    "img = Image.fromarray(img, \"RGB\")\n",
    "img.save(f'numpyExercise_part2_D_{name}.png')"
   ]
  },
  {
   "cell_type": "code",
   "execution_count": 266,
   "id": "f68e6722-5f77-4b8e-b6c5-d0f50830f8bb",
   "metadata": {},
   "outputs": [
    {
     "name": "stdout",
     "output_type": "stream",
     "text": [
      "(1632, 1224)\n",
      "uint8\n"
     ]
    }
   ],
   "source": [
    "# E-\n",
    "path_sliced = 'numpyExercise_part2_C_IASBS_1.png'\n",
    "img_sliced = Image.open(path_sliced)\n",
    "print(img_sliced.size)\n",
    "print(asarray(img_sliced).dtype)"
   ]
  },
  {
   "cell_type": "markdown",
   "id": "0d7eb162-df7c-42c4-92cf-99a3ac5543fa",
   "metadata": {},
   "source": [
    "## Question 3\n",
    "Write a NumPy program to create a 5x5 array sequentially with numbers from 1 to 25. Swap the first and last columns and the second and third columns to create a new array from the given array."
   ]
  },
  {
   "cell_type": "code",
   "execution_count": 315,
   "id": "42298059-05dc-4342-8fc7-f44b157403b6",
   "metadata": {},
   "outputs": [
    {
     "name": "stdout",
     "output_type": "stream",
     "text": [
      "Orginal:\n",
      "[[ 1  2  3  4  5]\n",
      " [ 6  7  8  9 10]\n",
      " [11 12 13 14 15]\n",
      " [16 17 18 19 20]\n",
      " [21 22 23 24 25]]\n",
      "Swapped:\n",
      "[[ 5  3  2  4  1]\n",
      " [10  8  7  9  6]\n",
      " [15 13 12 14 11]\n",
      " [20 18 17 19 16]\n",
      " [25 23 22 24 21]]\n"
     ]
    }
   ],
   "source": [
    "# def matrixGenerator(size=(5, 5), r=(1, 25)):\n",
    "#     return np.random.randint(low=r[0], high=r[1], size=size)\n",
    "def matrix(r=(1, 25), shape=(5, 5)):\n",
    "    lst = np.array([i for i in range(r[0], r[1] + 1)])\n",
    "    return np.reshape(lst, shape)\n",
    "\n",
    "shape = (5, 5)\n",
    "first = 1\n",
    "second = 2\n",
    "third = 3\n",
    "last = 5\n",
    "mat = matrix(shape=shape)\n",
    "mat_copy = mat.copy()\n",
    "# reference: https://www.w3resource.com/python-exercises/numpy/python-numpy-exercise-150.php\n",
    "mat_copy[:,[first - 1, last - 1]] = mat_copy[:,[last - 1, first - 1]]\n",
    "mat_copy[:,[second - 1, third - 1]] = mat_copy[:,[third - 1, second - 1]]\n",
    "# mat_copy[:,0], mat_copy[:,-1] = mat_copy[:,-1], mat_copy[:,0]\n",
    "# mat_copy[:,1], mat_copy[:,2] = mat_copy[:,2], mat_copy[:,1]\n",
    "\n",
    "print('Orginal:')\n",
    "print(mat)\n",
    "print('Swapped:')\n",
    "print(mat_copy)"
   ]
  },
  {
   "cell_type": "code",
   "execution_count": 291,
   "id": "9df3b63a-c35a-41f3-9d4d-1d770b05b535",
   "metadata": {},
   "outputs": [],
   "source": []
  },
  {
   "cell_type": "code",
   "execution_count": 292,
   "id": "c116bfc0-bdb5-4662-88a7-0f271ba42099",
   "metadata": {},
   "outputs": [],
   "source": []
  },
  {
   "cell_type": "code",
   "execution_count": 293,
   "id": "1ecc1032-bd36-45c1-9f11-8e3ffd069eef",
   "metadata": {},
   "outputs": [
    {
     "data": {
      "text/plain": [
       "array([[21, 12, 12,  9, 21],\n",
       "       [11, 16, 16, 19, 11],\n",
       "       [ 1, 16, 16, 19,  1],\n",
       "       [24, 16, 16, 14, 24],\n",
       "       [ 6, 20, 20, 16,  6]])"
      ]
     },
     "execution_count": 293,
     "metadata": {},
     "output_type": "execute_result"
    }
   ],
   "source": [
    "matrix"
   ]
  },
  {
   "cell_type": "code",
   "execution_count": null,
   "id": "6f5fce1f-2278-47b3-9e4f-f74672565c30",
   "metadata": {},
   "outputs": [],
   "source": []
  }
 ],
 "metadata": {
  "kernelspec": {
   "display_name": "Python 3 (ipykernel)",
   "language": "python",
   "name": "python3"
  },
  "language_info": {
   "codemirror_mode": {
    "name": "ipython",
    "version": 3
   },
   "file_extension": ".py",
   "mimetype": "text/x-python",
   "name": "python",
   "nbconvert_exporter": "python",
   "pygments_lexer": "ipython3",
   "version": "3.10.1"
  }
 },
 "nbformat": 4,
 "nbformat_minor": 5
}
