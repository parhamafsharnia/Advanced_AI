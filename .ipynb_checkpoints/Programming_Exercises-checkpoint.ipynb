{
 "cells": [
  {
   "cell_type": "markdown",
   "id": "94a70475",
   "metadata": {},
   "source": [
    "### Session 2"
   ]
  },
  {
   "cell_type": "code",
   "execution_count": 1,
   "id": "695ebd3b",
   "metadata": {
    "ExecuteTime": {
     "end_time": "2023-10-04T06:18:30.805066Z",
     "start_time": "2023-10-04T06:18:30.794814Z"
    }
   },
   "outputs": [
    {
     "name": "stdout",
     "output_type": "stream",
     "text": [
      "3.141592653589793\n"
     ]
    }
   ],
   "source": [
    "import math\n",
    "Pi = math.pi\n",
    "print(Pi)"
   ]
  },
  {
   "cell_type": "code",
   "execution_count": 2,
   "id": "6b8f421f",
   "metadata": {
    "ExecuteTime": {
     "end_time": "2023-10-04T06:18:36.740619Z",
     "start_time": "2023-10-04T06:18:31.794954Z"
    }
   },
   "outputs": [
    {
     "name": "stdout",
     "output_type": "stream",
     "text": [
      "Enter a Degree in Celsius:\t43\n",
      "43 Celsius is 109.4 Fahrenheit\n"
     ]
    }
   ],
   "source": [
    "#2.1\n",
    "celsius = eval(input(\"Enter a Degree in Celsius:\\t\"))\n",
    "fahrenheit = (9 / 5) * celsius + 32\n",
    "print(f\"{celsius} Celsius is {fahrenheit} Fahrenheit\")"
   ]
  },
  {
   "cell_type": "code",
   "execution_count": 3,
   "id": "b437310b",
   "metadata": {
    "ExecuteTime": {
     "end_time": "2023-10-04T06:18:50.480907Z",
     "start_time": "2023-10-04T06:18:42.377518Z"
    }
   },
   "outputs": [
    {
     "name": "stdout",
     "output_type": "stream",
     "text": [
      "Enter the radius of a cylinder:\t5.5\n",
      "Enter the length of a cylinder:\t12\n",
      "the area is 95.03317777109125\n",
      "the volume is 1140.398133253095\n"
     ]
    }
   ],
   "source": [
    "#2.2\n",
    "radius = eval(input(\"Enter the radius of a cylinder:\\t\"))\n",
    "length = eval(input(\"Enter the length of a cylinder:\\t\"))\n",
    "area = radius * radius * Pi\n",
    "volume = area * length\n",
    "print(f\"the area is {area}\")\n",
    "print(f\"the volume is {volume}\")"
   ]
  },
  {
   "cell_type": "code",
   "execution_count": 5,
   "id": "d2b15916",
   "metadata": {
    "ExecuteTime": {
     "end_time": "2023-10-04T06:21:59.956581Z",
     "start_time": "2023-10-04T06:21:54.929050Z"
    }
   },
   "outputs": [
    {
     "name": "stdout",
     "output_type": "stream",
     "text": [
      "Enter a value for feet:\t16.5\n",
      "16.5 feet is 5.0325 meter\n"
     ]
    }
   ],
   "source": [
    "#2.3 \n",
    "feet = eval(input(\"Enter a value for feet:\\t\"))\n",
    "meter = feet * 0.305\n",
    "print(f\"{feet} feet is {meter} meter\")"
   ]
  },
  {
   "cell_type": "code",
   "execution_count": 6,
   "id": "e8f6ed5e",
   "metadata": {
    "ExecuteTime": {
     "end_time": "2023-10-04T06:24:58.195952Z",
     "start_time": "2023-10-04T06:24:48.457871Z"
    }
   },
   "outputs": [
    {
     "name": "stdout",
     "output_type": "stream",
     "text": [
      "Enter a value in pounds55.5\n",
      "55.5 pounds is 25.197 kilograms\n"
     ]
    }
   ],
   "source": [
    "#2.4\n",
    "pounds = eval(input(\"Enter a value in pounds\"))\n",
    "kilograms = pounds * 0.454\n",
    "print(f\"{pounds} pounds is {kilograms} kilograms\")"
   ]
  },
  {
   "cell_type": "code",
   "execution_count": null,
   "id": "b0688a25",
   "metadata": {
    "ExecuteTime": {
     "start_time": "2023-10-04T06:32:54.923Z"
    }
   },
   "outputs": [],
   "source": [
    "#2.5\n",
    "subTotal = eval(input(\"Enter the subtotal:\"))\n",
    "gratuityRate = eval(input(\"Enter the gratuity rate:\"))\n",
    "gratuity = subTotal * (gratuityRate / 100)\n",
    "total = subTotal + gratuity\n",
    "print(f\"The gratuity is {gratuity} and the total is {total}\")"
   ]
  },
  {
   "cell_type": "code",
   "execution_count": null,
   "id": "74da52de",
   "metadata": {},
   "outputs": [],
   "source": []
  }
 ],
 "metadata": {
  "kernelspec": {
   "display_name": "Python 3 (ipykernel)",
   "language": "python",
   "name": "python3"
  },
  "language_info": {
   "codemirror_mode": {
    "name": "ipython",
    "version": 3
   },
   "file_extension": ".py",
   "mimetype": "text/x-python",
   "name": "python",
   "nbconvert_exporter": "python",
   "pygments_lexer": "ipython3",
   "version": "3.10.1"
  }
 },
 "nbformat": 4,
 "nbformat_minor": 5
}
