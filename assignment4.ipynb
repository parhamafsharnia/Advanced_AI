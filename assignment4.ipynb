{
 "cells": [
  {
   "cell_type": "code",
   "execution_count": 2,
   "id": "b429df8e-1c3b-4928-a558-d5f42afc2f32",
   "metadata": {},
   "outputs": [
    {
     "name": "stdout",
     "output_type": "stream",
     "text": [
      "*** Introductory Examples for the NLTK Book ***\n",
      "Loading text1, ..., text9 and sent1, ..., sent9\n",
      "Type the name of the text or sentence to view it.\n",
      "Type: 'texts()' or 'sents()' to list the materials.\n",
      "text1: Moby Dick by Herman Melville 1851\n",
      "text2: Sense and Sensibility by Jane Austen 1811\n",
      "text3: The Book of Genesis\n",
      "text4: Inaugural Address Corpus\n",
      "text5: Chat Corpus\n",
      "text6: Monty Python and the Holy Grail\n",
      "text7: Wall Street Journal\n",
      "text8: Personals Corpus\n",
      "text9: The Man Who Was Thursday by G . K . Chesterton 1908\n"
     ]
    }
   ],
   "source": [
    "from nltk.book import *"
   ]
  },
  {
   "cell_type": "code",
   "execution_count": 6,
   "id": "d8a13002-b01f-47fb-98a6-4f2ae1aeeaa6",
   "metadata": {},
   "outputs": [],
   "source": [
    "import nltk"
   ]
  },
  {
   "cell_type": "markdown",
   "id": "a14d7f35-cd90-453b-be2a-5a1f9b9b12f9",
   "metadata": {},
   "source": [
    "<b>Question 1</b><br>\n",
    "Write a program that returns the number of times a word is repeated in each sentence using the Gutenberg structure."
   ]
  },
  {
   "cell_type": "code",
   "execution_count": 2,
   "id": "f175af4f-7efc-43cb-abc1-5520868e1292",
   "metadata": {},
   "outputs": [
    {
     "name": "stdout",
     "output_type": "stream",
     "text": [
      "1486\n"
     ]
    }
   ],
   "source": [
    "from nltk.corpus import gutenberg\n",
    "from nltk import FreqDist\n",
    "\n",
    "def wordCounter(word):\n",
    "    '''This function get a word as an input and returns a number \n",
    "    that is the number of times the word repeated in Gutenberg corpora'''\n",
    "    \n",
    "    result = 0\n",
    "    for fileid in gutenberg.fileids():\n",
    "        rawTxt = gutenberg.raw(fileid)\n",
    "        result += rawTxt.count(word)\n",
    "    return result\n",
    "\n",
    "def wordCounter1(word):\n",
    "    '''This function will search for a word in each sentence and the result: print sentence, counter'''\n",
    "    for fileid in gutenberg.fileids():\n",
    "        sents = gutenberg.sents(fileid)\n",
    "        for sent in sents:\n",
    "            result = sent.count(word)\n",
    "            print(sent, result)\n",
    "            result = 0\n",
    "\n",
    "word = 'Hi'\n",
    "print(wordCounter(word=word))"
   ]
  },
  {
   "cell_type": "markdown",
   "id": "c29ac3cc-6d98-4342-ba9b-93fd20fa5413",
   "metadata": {},
   "source": [
    "<b>Question 2</b><br>\n",
    "Define a function find_language() that takes a string as its argument, and returns a list of languages that have that string as a word. Use the udhr corpus and limit your searches to files in the Latin-1 encoding."
   ]
  },
  {
   "cell_type": "code",
   "execution_count": 39,
   "id": "aaa763c9-2c28-4253-a1e2-47891eb16880",
   "metadata": {},
   "outputs": [
    {
     "name": "stdout",
     "output_type": "stream",
     "text": [
      "['Javanese-Latin1']\n"
     ]
    }
   ],
   "source": [
    "from nltk.corpus import udhr\n",
    "import re\n",
    "\n",
    "def find_language(string, encoding='Latin1'):\n",
    "    \n",
    "    limit = []\n",
    "    lst = []\n",
    "    for fileid in udhr.fileids():\n",
    "        if re.search(encoding, fileid):\n",
    "            limit.append(fileid)\n",
    "            \n",
    "    for lang in limit:\n",
    "        if word in udhr.words(lang):\n",
    "            lst.append(lang)\n",
    "            \n",
    "    return lst\n",
    "\n",
    "word = 'lair'\n",
    "print(find_language(string=word))"
   ]
  },
  {
   "cell_type": "markdown",
   "id": "b1e22936-a068-4583-983d-ec036542ea1b",
   "metadata": {},
   "source": [
    "<b>Question 3</b><br>"
   ]
  },
  {
   "cell_type": "markdown",
   "id": "ee049655-105a-43bf-ba72-b7ec599f68b1",
   "metadata": {},
   "source": [
    "Consider the following list:\n",
    "\n"
   ]
  },
  {
   "cell_type": "code",
   "execution_count": 45,
   "id": "f9fc2573-38f9-4b6b-83f2-bc4bf57e600b",
   "metadata": {},
   "outputs": [],
   "source": [
    "email_addresses = [\"john.doe@example.com\",\"alice.smith@gmail.com\",\"user123@yahoo.com\",\"invalid-email\",\"another.invalid@.com\",\"spammer@spam..com\",\"test.mail@domain.com\",\"no-at-sign-domain.com\",\"@missing-username.com\",\"user@valid-domain.net\",\"another.user@valid-domain.org\",\"info@company.com\",\"support@service.net\",\"user@invalid.ir\",\"sales@company.org\",\"contact.us@website.com\",\"random-email@domain.org\",\"user1234@hotmail.com\",\"another.invalid@domain\",\"email@missing-tld.\",\"user@-hyphen-in-domain.com\"]"
   ]
  },
  {
   "cell_type": "markdown",
   "id": "710086d6-eda6-4f23-ad44-461fa5c71691",
   "metadata": {},
   "source": [
    "a. Now, split each email address in <code>email_addresses</code> into its username and domain parts. Store the usernames in a list called <code>usernames</code> and the domains in a list called <code>domains</code>.<br>\n",
    "\n",
    "b. Create a function called <code>validate_email_domain</code> that takes a domain as input and checks if it is a valid domain. For simplicity, consider a valid domain to be one that ends with \".com\", \".ir\", \".org\", or \".net\". Use Regular Expressions for this validation.<br>\n",
    "\n",
    "c. Use the <code>validate_email_domain</code> function to filter out the valid domains. Store the valid domains in a list called <code>valid_domains</code>."
   ]
  },
  {
   "cell_type": "code",
   "execution_count": null,
   "id": "12131502-5f82-428e-9aea-ad918775311f",
   "metadata": {},
   "outputs": [],
   "source": [
    "import re"
   ]
  },
  {
   "cell_type": "code",
   "execution_count": 57,
   "id": "af42fd8f-a8a3-405a-bf5d-6e0f358f5951",
   "metadata": {},
   "outputs": [
    {
     "data": {
      "text/plain": [
       "['john.doe@example.com',\n",
       " 'alice.smith@gmail.com',\n",
       " 'user123@yahoo.com',\n",
       " 'invalid-email',\n",
       " 'another.invalid@.com',\n",
       " 'spammer@spam..com',\n",
       " 'test.mail@domain.com',\n",
       " 'no-at-sign-domain.com',\n",
       " '@missing-username.com',\n",
       " 'user@valid-domain.net',\n",
       " 'another.user@valid-domain.org',\n",
       " 'info@company.com',\n",
       " 'support@service.net',\n",
       " 'user@invalid.ir',\n",
       " 'sales@company.org',\n",
       " 'contact.us@website.com',\n",
       " 'random-email@domain.org',\n",
       " 'user1234@hotmail.com',\n",
       " 'another.invalid@domain',\n",
       " 'email@missing-tld.',\n",
       " 'user@-hyphen-in-domain.com']"
      ]
     },
     "execution_count": 57,
     "metadata": {},
     "output_type": "execute_result"
    }
   ],
   "source": [
    "email_addresses"
   ]
  },
  {
   "cell_type": "code",
   "execution_count": 148,
   "id": "16c86a7c-9f98-4ab8-bac3-5a235d2dfcb4",
   "metadata": {},
   "outputs": [
    {
     "data": {
      "text/plain": [
       "[True, True, True, True, True, True, True, True, True, True, True]"
      ]
     },
     "execution_count": 148,
     "metadata": {},
     "output_type": "execute_result"
    }
   ],
   "source": [
    "# a\n",
    "usernames = []\n",
    "domains = []\n",
    "\n",
    "pattern = '\\S+@\\w+\\.\\w+' # validate emails\n",
    "\n",
    "for email in email_addresses:\n",
    "    if re.findall(pattern, email):\n",
    "        s = re.split(\"@\", email)\n",
    "        usernames.append(s[0])\n",
    "        domains.append(s[1])\n",
    "# b        \n",
    "def validate_email_domain(domain):\n",
    "    valid = ['.com', '.ir', '.org', '.net']\n",
    "    pattern = '\\.\\w+'\n",
    "    if re.findall(pattern, domain)[0] in valid:\n",
    "        return True\n",
    "    return False\n",
    "# c\n",
    "valid_domains = []\n",
    "for domain in domains:    \n",
    "    valid_domains.append(validate_email_domain(domain=domain))\n",
    "valid_domains"
   ]
  },
  {
   "cell_type": "markdown",
   "id": "cc436b27-6ccc-4cb9-a860-21639cd19035",
   "metadata": {},
   "source": [
    "<b>Question 4</b><br>"
   ]
  },
  {
   "cell_type": "markdown",
   "id": "14d6bb63-cc4f-4f00-b44a-83c012f7687a",
   "metadata": {},
   "source": [
    "<b>Question 5</b><br>"
   ]
  },
  {
   "cell_type": "markdown",
   "id": "849901e3-f58e-4e3d-ab1a-655c1e4877db",
   "metadata": {},
   "source": [
    "<b>Question 6</b><br>"
   ]
  },
  {
   "cell_type": "markdown",
   "id": "132e6eb1-aba5-41ad-bbb1-fbc2a1035e79",
   "metadata": {},
   "source": [
    "<b>Question 7</b><br>"
   ]
  },
  {
   "cell_type": "markdown",
   "id": "1509c035-3a73-40fe-8a0d-a6f7e6e607b4",
   "metadata": {},
   "source": [
    "<b>Question 8</b><br>"
   ]
  },
  {
   "cell_type": "markdown",
   "id": "7202f938-4c83-41ab-896b-eb096909ddf2",
   "metadata": {},
   "source": [
    "<b>Question 9</b><br>"
   ]
  },
  {
   "cell_type": "markdown",
   "id": "b24d1ada-ced9-4f68-a55e-f5ac89823db5",
   "metadata": {},
   "source": [
    "<b>Question 10</b><br>"
   ]
  },
  {
   "cell_type": "markdown",
   "id": "12bf0a2f-100e-4350-a717-bc356ac0efe0",
   "metadata": {},
   "source": [
    "<b>Question 11</b><br>"
   ]
  },
  {
   "cell_type": "code",
   "execution_count": null,
   "id": "5567b6cf-3d16-4364-8b50-619de779a39e",
   "metadata": {},
   "outputs": [],
   "source": []
  }
 ],
 "metadata": {
  "kernelspec": {
   "display_name": "Python 3 (ipykernel)",
   "language": "python",
   "name": "python3"
  },
  "language_info": {
   "codemirror_mode": {
    "name": "ipython",
    "version": 3
   },
   "file_extension": ".py",
   "mimetype": "text/x-python",
   "name": "python",
   "nbconvert_exporter": "python",
   "pygments_lexer": "ipython3",
   "version": "3.10.1"
  }
 },
 "nbformat": 4,
 "nbformat_minor": 5
}
